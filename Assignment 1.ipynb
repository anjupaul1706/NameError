{
 "cells": [
  {
   "cell_type": "markdown",
   "metadata": {},
   "source": [
    "# PART A"
   ]
  },
  {
   "cell_type": "markdown",
   "metadata": {},
   "source": [
    "# A -1\n",
    "Write a program to print the next 20 leap year and sum of digits of leap year must be greater than 16."
   ]
  },
  {
   "cell_type": "code",
   "execution_count": 6,
   "metadata": {},
   "outputs": [
    {
     "name": "stdout",
     "output_type": "stream",
     "text": [
      "Enter an year : 2020\n",
      "Next 20 leap years from the year 2020  with sum of its digits greater than 16 are : [2088, 2096, 2168, 2188, 2196, 2268, 2276, 2288, 2296, 2348, 2368, 2376, 2384, 2388, 2396, 2448, 2456, 2468, 2476, 2484]\n"
     ]
    }
   ],
   "source": [
    "year = int(input(\"Enter an year : \"))\n",
    "a = year+1\n",
    "leapyear = []\n",
    "i = 0\n",
    "while i < 20:\n",
    "    if a % 4 == 0:   #checking whether the year is leap year  or not\n",
    "        sum = 0\n",
    "        for digit in str(a):   #finding sum of digits of year\n",
    "            sum += int(digit)\n",
    "        if sum > 16:           #checking whether sum of digits is greater thyan 16\n",
    "            leapyear.append(a) #appending the list if all the condtions are satisfied\n",
    "            i+=1\n",
    "    a+=1\n",
    "print(\"Next 20 leap years from the year {}  with sum of its digits greater than 16 are : {}\".format(year, leapyear))\n",
    "\n",
    "\n"
   ]
  },
  {
   "cell_type": "markdown",
   "metadata": {},
   "source": [
    "# A -2\n",
    "Design an interactive calculator(sum, subtraction, multiplication, division, speed, interest)."
   ]
  },
  {
   "cell_type": "code",
   "execution_count": 15,
   "metadata": {},
   "outputs": [
    {
     "name": "stdout",
     "output_type": "stream",
     "text": [
      "What operation would you like to do?\n",
      "\n",
      "1) ADDITION \n",
      "2) SUBTRACTION \n",
      "3) MULTIPLICATION \n",
      "4) DIVISION \n",
      "5) SPEED \n",
      "6) INTEREST\n",
      "enter your choice, 1 , 2 , 3 , 4 , 5 ,or 6 7\n",
      "INVALID ENTRY!!!!!!! \n",
      " Please try again\n",
      "What operation would you like to do?\n",
      "\n",
      "1) ADDITION \n",
      "2) SUBTRACTION \n",
      "3) MULTIPLICATION \n",
      "4) DIVISION \n",
      "5) SPEED \n",
      "6) INTEREST\n",
      "enter your choice, 1 , 2 , 3 , 4 , 5 ,or 6 2\n",
      "enter a number : 8\n",
      "enter another number : 9\n",
      "8.0 - 9.0 = -1.0\n"
     ]
    }
   ],
   "source": [
    "def addition(a):  #to find sum of 2 numbers\n",
    "    p, q = float(input(\"enter a number : \")),float(input(\"enter another number : \"))\n",
    "    print(\"{} + {} = {}\".format(p,q,round(p+q,2)))\n",
    "    \n",
    "def subtraction(a):  #to find difference of 2 numbers\n",
    "    p, q = float(input(\"enter a number : \")),float(input(\"enter another number : \"))\n",
    "    print(\"{} - {} = {}\".format(p,q,round(p-q,2)))\n",
    "\n",
    "def multiplication(a):  #to multiply 2 numbers\n",
    "    p, q = float(input(\"enter a number : \")),float(input(\"enter another number : \"))\n",
    "    print(\"{} x {} = {}\".format(p,q,round(p*q,2)))\n",
    "\n",
    "def division(a):    #to divide 2 numbers\n",
    "    p, q = float(input(\"enter a number : \")),float(input(\"enter another number : \"))\n",
    "    print(\"{} / {} = {}\".format(p,q,round(p/q,2)))\n",
    " \n",
    "def speed(a):    #too find speed \n",
    "    distance, time = float(input(\"enter distance(km) : \")),float(input(\"enter time(hrs) : \"))\n",
    "    print(\"speed(km\\hr) = \",distance/time)\n",
    " \n",
    "def interest(a):   #to find interest\n",
    "    principle_amnt, interest_rate, no_of_years = float(input(\"enter principle amount(Rs) : \")),float(input(\"enter rate of interest(%) : \")), float(input(\"enter number of years : \"))\n",
    "    print(\"interest(Rs) = \",principle_amnt*interest_rate*no_of_years/100)\n",
    "\n",
    "def calc(choice):  #to get user's choice and decide which function is to be called\n",
    "    print(\"What operation would you like to do?\\n\")\n",
    "    print(\"1) ADDITION \\n2) SUBTRACTION \\n3) MULTIPLICATION \\n4) DIVISION \\n5) SPEED \\n6) INTEREST\")\n",
    "    choice = int(input(\"enter your choice, 1 , 2 , 3 , 4 , 5 ,or 6 \"))\n",
    "    if choice == 1:\n",
    "        addition(choice)\n",
    "    elif choice == 2:\n",
    "        subtraction(choice)\n",
    "    elif choice == 3:\n",
    "        multiplication(choice)\n",
    "    elif choice==4:\n",
    "        division(choice)\n",
    "    elif choice == 5:\n",
    "        speed(choice)\n",
    "    elif choice == 6:\n",
    "        interest(choice)\n",
    "    else:                                          #if input is in valid the function is called again to try input again\n",
    "        print(\"INVALID ENTRY!!!!!!! \\n Please try again\")\n",
    "        calc(choice)\n",
    "\n",
    "choice = 0\n",
    "choice = calc(choice)    \n"
   ]
  },
  {
   "cell_type": "markdown",
   "metadata": {},
   "source": [
    "# A -3\n",
    "The game is that the computer \"thinks\" about a number and we have to guess it.\n",
    "On every guess, the computer will tell us if our guess was smaller or bigger than the hidden number.\n",
    "The game ends when we find the number.\n",
    "Also define no.of attempts took to find this hidden number.(Hidden number lies between 0-100)"
   ]
  },
  {
   "cell_type": "code",
   "execution_count": 8,
   "metadata": {},
   "outputs": [
    {
     "name": "stdout",
     "output_type": "stream",
     "text": [
      "Enter your guess90\n",
      "Your guess is greater than the hidden number....\n",
      "\n",
      "Enter your guess80\n",
      "Your guess is greater than the hidden number....\n",
      "\n",
      "Enter your guess50\n",
      "Your guess is greater than the hidden number....\n",
      "\n",
      "Enter your guess20\n",
      "Your guess is smaller than the hidden number....\n",
      "\n",
      "Enter your guess30\n",
      "Congratulations,,,You guessed it right in  5  guess \n",
      " The number is :  30\n"
     ]
    }
   ],
   "source": [
    "def check(x): #function to compare the guess with the hidden number\n",
    "    \n",
    "    global i  #global variable\n",
    "    i+=1      # incrementing the variable every time the user makes a guess\n",
    "    \n",
    "    if x > num:\n",
    "        print(\"Your guess is greater than the hidden number....\\n\")\n",
    "        guess(x)\n",
    "        \n",
    "    elif x < num:\n",
    "        print(\"Your guess is smaller than the hidden number....\\n\")\n",
    "        guess(x)\n",
    "        \n",
    "    else:\n",
    "        print(\"Congratulations,,,You guessed it right in \",i,\" guess \\n The number is : \",x)\n",
    " \n",
    "\n",
    "\n",
    "def guess(y): # function to input new guess every time the user guesses wrong\n",
    "    \n",
    "    b = int(input(\"Enter your guess\"))\n",
    "    check(b) #calling function 'check' to compare the guess and hidden number \n",
    "\n",
    "\n",
    "i=0 #initializing a variable to store the number of guesses\n",
    "\n",
    "import random\n",
    "num = random.randint(0, 100) # assigning a randomly generated number to variable num\n",
    "\n",
    "a = int(input(\"Enter your guess\"))\n",
    "\n",
    "check(a) #calling the function 'check' to compare the guess and hidden number \n"
   ]
  },
  {
   "cell_type": "markdown",
   "metadata": {},
   "source": [
    "# A -4\n",
    "Write a python program to calculate sum and product of digits of a number(Create two different functions,one for sum and one for product)."
   ]
  },
  {
   "cell_type": "code",
   "execution_count": 9,
   "metadata": {},
   "outputs": [
    {
     "name": "stdout",
     "output_type": "stream",
     "text": [
      "Enter a number : 12365\n",
      "Sum of digits of the number =  17\n",
      "Product of digits of the number =  180\n"
     ]
    }
   ],
   "source": [
    "def sum_of_digits(a):  #function to find sum of digits\n",
    "    \n",
    "    sum = 0 \n",
    "    \n",
    "    for digit in a:   \n",
    "            sum += int(digit)\n",
    "            \n",
    "    print(\"Sum of digits of the number = \",sum)\n",
    "\n",
    "\n",
    "def product_of_digits(a):  #function to find product of digits\n",
    "    \n",
    "    product = 1\n",
    "    \n",
    "    for digit in a:\n",
    "        product *= int(digit)\n",
    "        \n",
    "    print(\"Product of digits of the number = \",product)\n",
    "\n",
    "\n",
    "number = input(\"Enter a number : \")\n",
    "\n",
    "sum_of_digits(number) #function call to find sum of digits\n",
    "product_of_digits(number)  #function call to find product of digits\n"
   ]
  },
  {
   "cell_type": "markdown",
   "metadata": {},
   "source": [
    "# A -5\n",
    "Write a python program to calculate the area and perimeter of square, rectangle, rhombus, parallelogram(Create two functions,one for area and one for perimeter)"
   ]
  },
  {
   "cell_type": "code",
   "execution_count": 11,
   "metadata": {},
   "outputs": [
    {
     "name": "stdout",
     "output_type": "stream",
     "text": [
      "............Finding area and perimeter..........\n",
      "1) Square \n",
      "2) Rectangle \n",
      "3) Rhombus \n",
      "4) Parallelogram\n",
      "Choose one  : 2\n",
      "enter length of the rectangle = 5\n",
      "enter breadth of the rectangle = 6\n",
      "Area =  30\n",
      "Perimeter =  22\n"
     ]
    }
   ],
   "source": [
    "\n",
    "def area(a):          #function to find area\n",
    "    \n",
    "    if a == 1:        #area of square\n",
    "        global side\n",
    "        side = int(input(\"enter length of the side of the square = \"))\n",
    "        print(\"Area = \",side**2)\n",
    "        \n",
    "    elif a == 2:      #area of rectangle\n",
    "        global length, breadth\n",
    "        length, breadth = int(input(\"enter length of the rectangle = \")), int(input(\"enter breadth of the rectangle = \"))\n",
    "        print(\"Area = \",length*breadth)\n",
    "        \n",
    "    elif a == 3:      #area of rhombus \n",
    "        global diagonal1, diagonal2\n",
    "        diagonal1, diagonal2 = int(input(\"enter lengths of diagonals of the rhombus = \")), int(input())\n",
    "        print(\"Area = \",(diagonal1*diagonal2)/2)\n",
    "        \n",
    "    elif a == 4:     #area of parallelogram\n",
    "        global base, side1\n",
    "        base, side1, height = int(input(\"enter length of base of parallelogram = \")), int(input(\"enter length of side = \")), int(input(\"enter height = \"))\n",
    "        print(\"Area = \",base*height)\n",
    "        \n",
    "    else:\n",
    "        print(\"INVALID ENTRY!!!!!\")\n",
    "   \n",
    "\n",
    "def perimeter(a):       #function to find perimeter\n",
    "    \n",
    "    if a == 1:          #perimeter of square\n",
    "        print(\"Perimeter = \",4*side)\n",
    "        \n",
    "    elif a == 2:        #perimeter of rectangle\n",
    "        print(\"Perimeter = \",(length+breadth)*2)\n",
    "        \n",
    "    elif a == 3:        #perimeter of rhombus\n",
    "        print(\"Perimeter = \",2 * math.sqrt(diagonal1**2 + diagonal2**2))\n",
    "        \n",
    "    elif a == 4:       #perimeter of parallelogram\n",
    "        print(\"Perimeter = \",(base+side1)*2)\n",
    "\n",
    "\n",
    "import math  \n",
    "print(\"............Finding area and perimeter..........\")\n",
    "print(\"1) Square \\n2) Rectangle \\n3) Rhombus \\n4) Parallelogram\")\n",
    "my_choice = int(input(\"Choose one  : \")) #asking for user's choice\n",
    "\n",
    "area(my_choice) #function call to find area\n",
    "perimeter(my_choice) #function call to find perimeter"
   ]
  },
  {
   "cell_type": "markdown",
   "metadata": {},
   "source": [
    "# A -6\n",
    "Write a function that takes a list of strings and print them,one per line,in a rectangular frame."
   ]
  },
  {
   "cell_type": "code",
   "execution_count": 25,
   "metadata": {},
   "outputs": [
    {
     "name": "stdout",
     "output_type": "stream",
     "text": [
      "Enter the no.of elements you want to enter in the list : 4\n",
      "enter 1st element : Hello\n",
      "enter 2st element : World\n",
      "enter 3st element : in\n",
      "enter 4st element : frame\n",
      "**********\n",
      "* Hello  *\n",
      "* World  *\n",
      "* in     *\n",
      "* frame  *\n",
      "**********\n"
     ]
    }
   ],
   "source": [
    "def frame(p):   #function to print the elements of list in frame\n",
    "    list1 = []\n",
    "    for i in p:   #loop to append list1 with the length of each  of the elements in my_list\n",
    "        list1.append(len(i))\n",
    "    length = max(list1)  #value of length is biggest element in list1\n",
    "    print(\"*\" * (length+5))  \n",
    "    for item in p:\n",
    "        b = len(item)\n",
    "        print(\"*\",item,(length-b)*\" \",\"*\")\n",
    "    print(\"*\" * (length+5))\n",
    "\n",
    "\n",
    "my_list = []\n",
    "a = int(input(\"Enter the no.of elements you want to enter in the list : \")) \n",
    "              \n",
    "for i in range(a):   #loop to append the list \n",
    "    my_list.append(input(\"enter {}st element : \".format(i+1)))\n",
    "\n",
    "frame(my_list)   #function call"
   ]
  },
  {
   "cell_type": "markdown",
   "metadata": {},
   "source": [
    "# PART B"
   ]
  },
  {
   "cell_type": "markdown",
   "metadata": {},
   "source": [
    "# B -1\n",
    "Develop a python program which prints cube sum of first n natural numbers(N is user defined.)."
   ]
  },
  {
   "cell_type": "code",
   "execution_count": 2,
   "metadata": {},
   "outputs": [
    {
     "name": "stdout",
     "output_type": "stream",
     "text": [
      "Enter number upto which you want to find cube sum : 5\n",
      "The cube sum is  225\n"
     ]
    }
   ],
   "source": [
    "num = int(input(\"Enter number upto which you want to find cube sum : \"))\n",
    "sum = 0\n",
    "for i in range(1,num+1):  #every time the loop works sum is incremented by the cube of i \n",
    "    sum += i**3\n",
    "\n",
    "print(\"The cube sum is \",sum)\n"
   ]
  },
  {
   "cell_type": "markdown",
   "metadata": {},
   "source": [
    "# B - 2\n",
    "Develop a python program to print all prime numbers in a given interval(interval values should be user defined)."
   ]
  },
  {
   "cell_type": "code",
   "execution_count": 1,
   "metadata": {},
   "outputs": [
    {
     "name": "stdout",
     "output_type": "stream",
     "text": [
      "enter starting number : 2\n",
      "enter ending number : 6\n",
      "prime numbers in the interval (2 , 6) are [2, 3, 5]\n"
     ]
    }
   ],
   "source": [
    "start, end = int(input(\"enter starting number : \")), int(input(\"enter ending number : \")) \n",
    "prime = []\n",
    "\n",
    "for num in range(start,end+1): #loop to access each number in the user defined interval\n",
    "    for i in range(2,num):     #loop to access each number starting from 2 to the number\n",
    "        if(num % i == 0):      #checking whether the number is divisible by any other number other than 1 or the number itself\n",
    "            break\n",
    "    else:\n",
    "        prime.append(num)      #when the if statement is false, the list prime is appended\n",
    "\n",
    "print(\"prime numbers in the interval ({} , {}) are {}\".format(start,end,prime))\n"
   ]
  },
  {
   "cell_type": "markdown",
   "metadata": {},
   "source": [
    "# B -3\n",
    "Develop a python program which prints factorial of a given number(Number should be user defined)."
   ]
  },
  {
   "cell_type": "code",
   "execution_count": 3,
   "metadata": {},
   "outputs": [
    {
     "name": "stdout",
     "output_type": "stream",
     "text": [
      "Enter a number : 5\n",
      "5! = 120\n"
     ]
    }
   ],
   "source": [
    "def factorial(n):    #function to find factorial of input number\n",
    "    fact = 1\n",
    "    for i in range(1,n+1):\n",
    "        fact *= i\n",
    "    print(\"{}! = {}\".format(n,fact))\n",
    "    \n",
    "    \n",
    "num = int(input(\"Enter a number : \"))\n",
    "factorial(num) #function call \n"
   ]
  },
  {
   "cell_type": "markdown",
   "metadata": {},
   "source": [
    "# B -4\n",
    "Develop a python program to check if a given string is palindrome or not?"
   ]
  },
  {
   "cell_type": "code",
   "execution_count": 27,
   "metadata": {},
   "outputs": [
    {
     "name": "stdout",
     "output_type": "stream",
     "text": [
      "Enter a word : malayalam\n",
      "it is a palindrome\n"
     ]
    }
   ],
   "source": [
    "def my_function(x):  #function to return reverse of the string\n",
    "  return x[::-1]\n",
    "\n",
    "word = input(\"Enter a word : \")\n",
    "a = word\n",
    "a = my_function(a) #function call\n",
    "\n",
    "if a == word:      #checking whether reverse of string is equal to string itself\n",
    "    print(\"it is a palindrome\")\n",
    "else:\n",
    "    print(\"it is not a palindrome\")\n"
   ]
  },
  {
   "cell_type": "markdown",
   "metadata": {},
   "source": [
    "# B -5\n",
    "Develop a python program Which print sum of all the integers in a list(Note : all the elements must be user defined and list must contain strings also)"
   ]
  },
  {
   "cell_type": "code",
   "execution_count": 29,
   "metadata": {},
   "outputs": [
    {
     "name": "stdout",
     "output_type": "stream",
     "text": [
      "Enter number of elements : 5\n",
      "Enter element : ab\n",
      "Enter element : 5\n",
      "Enter element : 4\n",
      "Enter element : jk\n",
      "Enter element : 2\n",
      "sum of integers in the list =  11\n"
     ]
    }
   ],
   "source": [
    "def my_fn(a):  #function to find sum of intergers in  the list\n",
    "    dig = 0\n",
    "    \n",
    "    for element in a:\n",
    "        if str(element).isdigit(): #checking whether element in list is digit or not\n",
    "            dig += int(element)\n",
    "            \n",
    "    print(\"sum of integers in the list = \",dig)    \n",
    "        \n",
    "        \n",
    "n = int(input(\"Enter number of elements : \"))\n",
    "list1 = []\n",
    "\n",
    "for  i in range(n):  #entering elements to the list\n",
    "    list1.append(input(\"Enter element : \"))\n",
    "   \n",
    "my_fn(list1) #function call\n",
    "    "
   ]
  },
  {
   "cell_type": "markdown",
   "metadata": {},
   "source": [
    "# B -6\n",
    "Develop a python program which print sum of all the characters in a list(Note: All the elements must be user defined and list must contain integers also) "
   ]
  },
  {
   "cell_type": "code",
   "execution_count": 31,
   "metadata": {},
   "outputs": [
    {
     "name": "stdout",
     "output_type": "stream",
     "text": [
      "Enter number of elements : 5\n",
      "Enter element : abc\n",
      "Enter element : 56\n",
      "Enter element : def\n",
      "Enter element : ghi\n",
      "Enter element : 65\n",
      "sum of characters in the list =  abcdefghi\n"
     ]
    }
   ],
   "source": [
    "def my_fn(a):  #function to find sum of characters in  the list\n",
    "    string = ''\n",
    "    \n",
    "    for element in a:\n",
    "        if str(element).isdigit() == False: #checking whether the element is string or not\n",
    "            string += element\n",
    "            \n",
    "    print(\"sum of characters in the list = \",string)    \n",
    "        \n",
    "        \n",
    "n = int(input(\"Enter number of elements : \"))\n",
    "list1 = []\n",
    "\n",
    "for  i in range(n):  #entering elements to the list\n",
    "    list1.append(input(\"Enter element : \"))\n",
    "   \n",
    "my_fn(list1) #function call"
   ]
  },
  {
   "cell_type": "markdown",
   "metadata": {},
   "source": [
    "# B -7\n",
    "Develop a python program which prints count of all the characters and strings in the list(Note: All the elements must be user defined and list must contain integers also)"
   ]
  },
  {
   "cell_type": "code",
   "execution_count": 32,
   "metadata": {},
   "outputs": [
    {
     "name": "stdout",
     "output_type": "stream",
     "text": [
      "Enter number of elements : 5\n",
      "Enter element : abc\n",
      "Enter element : 6\n",
      "Enter element : ijk\n",
      "Enter element : lmn\n",
      "Enter element : 2\n",
      "Number of characters and strings in the list is  3\n"
     ]
    }
   ],
   "source": [
    "def my_fn(a):  #function to find count of all characters and strings in  the list\n",
    "    count = 0\n",
    "    \n",
    "    for element in a:\n",
    "        if str(element).isdigit() == False: #checking whether element in list is digit or not\n",
    "            count += 1\n",
    "            \n",
    "    print(\"Number of characters and strings in the list is \",count)    \n",
    "        \n",
    "        \n",
    "n = int(input(\"Enter number of elements : \"))\n",
    "list1 = []\n",
    "\n",
    "for  i in range(n):  #entering elements to the list\n",
    "    list1.append(input(\"Enter element : \"))\n",
    "   \n",
    "my_fn(list1) #function call"
   ]
  },
  {
   "cell_type": "code",
   "execution_count": null,
   "metadata": {},
   "outputs": [],
   "source": []
  }
 ],
 "metadata": {
  "kernelspec": {
   "display_name": "Python 3",
   "language": "python",
   "name": "python3"
  },
  "language_info": {
   "codemirror_mode": {
    "name": "ipython",
    "version": 3
   },
   "file_extension": ".py",
   "mimetype": "text/x-python",
   "name": "python",
   "nbconvert_exporter": "python",
   "pygments_lexer": "ipython3",
   "version": "3.7.6"
  }
 },
 "nbformat": 4,
 "nbformat_minor": 4
}
